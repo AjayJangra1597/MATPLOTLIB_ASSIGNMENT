{
 "cells": [
  {
   "cell_type": "raw",
   "id": "5295c15b-9097-4650-92fb-c101c36e6f38",
   "metadata": {},
   "source": [
    "1. Create a scatter plot using Matplotlib to visualize the relationship between two arrays, x and y for the given data.\n",
    "    x = [1, 2, 3, 4, 5, 6, 7, 8, 9, 10] ",
    "\n",
    "    y = [2, 4, 5, 7, 6, 8, 9, 10, 12, 13] \n",
    "Ans.\n",
    "\n",
    "    import matplotlib.pyplot as plt\n",
    "    \n",
    "    # Given data\n",
    "    x = [1, 2, 3, 4, 5, 6, 7, 8, 9, 10]\n",
    "    y = [2, 4, 5, 7, 6, 8, 9, 10, 12, 13]\n",
    "    \n",
    "    # Create a scatter plot\n",
    "    plt.scatter(x, y, color='blue', label='Data points')\n",
    "    \n",
    "    # Add title and labels\n",
    "    plt.title('Scatter Plot of x vs y')\n",
    "    plt.xlabel('x')\n",
    "    plt.ylabel('y')\n",
    "    plt.legend()\n",
    "    \n",
    "    # Display the plot\n",
    "    plt.show()\n"
   ]
  },
  {
   "cell_type": "raw",
   "id": "1e2bfeaa-7b42-464b-81e4-873ca7101859",
   "metadata": {},
   "source": [
    "2. Generate a line plot to visualize the trend of values for the given data.\n",
    "    data = np.array([3, 7, 9, 15, 22, 29, 35])\n",
    "Ans. \n",
    "    import matplotlib.pyplot as plt\n",
    "    import numpy as np\n",
    "    \n",
    "    # Given data\n",
    "    data = np.array([3, 7, 9, 15, 22, 29, 35])\n",
    "    \n",
    "    # Generate a line plot\n",
    "    plt.plot(data, marker='o', color='green', label='Trend')\n",
    "    \n",
    "    # Add title and labels\n",
    "    plt.title('Line Plot of Data')\n",
    "    plt.xlabel('Index')\n",
    "    plt.ylabel('Values')\n",
    "    plt.legend()\n",
    "    \n",
    "    # Display the plot\n",
    "    plt.show()\n"
   ]
  },
  {
   "cell_type": "raw",
   "id": "a90ea96a-78e8-423e-aedf-2ed06934418b",
   "metadata": {},
   "source": [
    "3. Display a bar chart to represent the frequency of each item in the given array categories.\n",
    "    categories = ['A', 'B', 'C', 'D', 'E'] ",
    "\n",
    "    values = [25, 40, 30, 35, 20]\n",
    "Ans.\n",
    "    import matplotlib.pyplot as plt\n",
    "    \n",
    "    # Given data\n",
    "    categories = ['A', 'B', 'C', 'D', 'E']\n",
    "    values = [25, 40, 30, 35, 20]\n",
    "    \n",
    "    # Create a bar chart\n",
    "    plt.bar(categories, values, color='skyblue')\n",
    "    \n",
    "    # Add title and labels\n",
    "    plt.title('Bar Chart of Category Frequencies')\n",
    "    plt.xlabel('Categories')\n",
    "    plt.ylabel('Values')\n",
    "    \n",
    "    # Display the chart\n",
    "    plt.show()\n",
    "    \n"
   ]
  },
  {
   "cell_type": "raw",
   "id": "6f24c5f4-ed89-45c9-ac13-fe5183dd79bf",
   "metadata": {},
   "source": [
    "4. Create a histogram to visualize the distribution of values in the array data.\n",
    "    data = np.random.normal(0, 1, 1000)\n",
    "Ans.\n",
    "    import matplotlib.pyplot as plt\n",
    "    import numpy as np\n",
    "    \n",
    "    # Generate random data\n",
    "    data = np.random.normal(0, 1, 1000)\n",
    "    \n",
    "    # Create a histogram\n",
    "    plt.hist(data, bins=30, color='blue', edgecolor='black')\n",
    "    \n",
    "    # Add title and labels\n",
    "    plt.title('Histogram of Normally Distributed Data')\n",
    "    plt.xlabel('Value')\n",
    "    plt.ylabel('Frequency')\n",
    "    \n",
    "    # Display the plot\n",
    "    plt.show()\n"
   ]
  },
  {
   "cell_type": "raw",
   "id": "f44004ed-c9f3-4518-ae49-c69cd3e17c5c",
   "metadata": {},
   "source": [
    "5. Show a pie chart to represent the percentage distribution of different sections in the array `sections`.\n",
    "    sections = ['Section A', 'Section B', 'Section C', 'Section D'] ",
    "\n",
    "    sizes = [25, 30, 15, 30]\n",
    "Ans.\n",
    "    import matplotlib.pyplot as plt\n",
    "    \n",
    "    # Given data\n",
    "    sections = ['Section A', 'Section B', 'Section C', 'Section D']\n",
    "    sizes = [25, 30, 15, 30]\n",
    "    \n",
    "    # Create a pie chart\n",
    "    plt.pie(sizes, labels=sections, autopct='%1.1f%%', startangle=90, colors=['gold', 'lightcoral', 'lightskyblue', 'lightgreen'])\n",
    "    \n",
    "    # Equal aspect ratio ensures that pie is drawn as a circle.\n",
    "    plt.axis('equal')\n",
    "    \n",
    "    # Add title\n",
    "    plt.title('Percentage Distribution of Sections')\n",
    "    \n",
    "    # Display the pie chart\n",
    "    plt.show()\n"
   ]
  }
 ],
 "metadata": {
  "kernelspec": {
   "display_name": "Python 3 (ipykernel)",
   "language": "python",
   "name": "python3"
  },
  "language_info": {
   "codemirror_mode": {
    "name": "ipython",
    "version": 3
   },
   "file_extension": ".py",
   "mimetype": "text/x-python",
   "name": "python",
   "nbconvert_exporter": "python",
   "pygments_lexer": "ipython3",
   "version": "3.12.4"
  }
 },
 "nbformat": 4,
 "nbformat_minor": 5
}
